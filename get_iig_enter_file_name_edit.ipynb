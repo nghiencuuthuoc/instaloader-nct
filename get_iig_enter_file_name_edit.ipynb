{
 "cells": [
  {
   "cell_type": "code",
   "execution_count": null,
   "id": "32b3e23a",
   "metadata": {},
   "outputs": [],
   "source": [
    "name = \"yoga_text_01.log\""
   ]
  },
  {
   "cell_type": "code",
   "execution_count": 1,
   "id": "935b7e6e",
   "metadata": {},
   "outputs": [
    {
     "name": "stdout",
     "output_type": "stream",
     "text": [
      "Enter file name with extension (csv or txt): yoga_text_01.log\n"
     ]
    }
   ],
   "source": [
    "# import lib\n",
    "import os\n",
    "import shutil\n",
    "\n",
    "# input file name\n",
    "file = str(input(\"Enter file name with extension (csv or txt): \"))\n",
    "file_name = 'textbinder/' + file\n",
    "file_name_loading = 'textbinder/' + 'loading_' + file"
   ]
  },
  {
   "cell_type": "code",
   "execution_count": 3,
   "id": "74e5f79d",
   "metadata": {},
   "outputs": [],
   "source": [
    "# ok\n",
    "f = open(file_name,'rb')\n",
    "drugs_name_file = f.readlines()"
   ]
  },
  {
   "cell_type": "code",
   "execution_count": 4,
   "id": "d02aa898",
   "metadata": {},
   "outputs": [
    {
     "ename": "TypeError",
     "evalue": "a bytes-like object is required, not 'str'",
     "output_type": "error",
     "traceback": [
      "\u001b[1;31m---------------------------------------------------------------------------\u001b[0m",
      "\u001b[1;31mTypeError\u001b[0m                                 Traceback (most recent call last)",
      "\u001b[1;32m~\\AppData\\Local\\Temp/ipykernel_9028/2736766923.py\u001b[0m in \u001b[0;36m<module>\u001b[1;34m\u001b[0m\n\u001b[0;32m      1\u001b[0m \u001b[1;32mfor\u001b[0m \u001b[0mdrug_name_raw\u001b[0m \u001b[1;32min\u001b[0m \u001b[0mdrugs_name_file\u001b[0m\u001b[1;33m:\u001b[0m\u001b[1;33m\u001b[0m\u001b[1;33m\u001b[0m\u001b[0m\n\u001b[1;32m----> 2\u001b[1;33m     \u001b[0mdrug\u001b[0m \u001b[1;33m=\u001b[0m \u001b[0mdrug_name_raw\u001b[0m\u001b[1;33m.\u001b[0m\u001b[0mreplace\u001b[0m\u001b[1;33m(\u001b[0m\u001b[1;34m'\\n'\u001b[0m\u001b[1;33m,\u001b[0m\u001b[1;34m''\u001b[0m\u001b[1;33m)\u001b[0m\u001b[1;33m\u001b[0m\u001b[1;33m\u001b[0m\u001b[0m\n\u001b[0m\u001b[0;32m      3\u001b[0m     \u001b[1;32mwith\u001b[0m \u001b[0mopen\u001b[0m\u001b[1;33m(\u001b[0m\u001b[0mfile_name_loading\u001b[0m\u001b[1;33m,\u001b[0m \u001b[1;34m\"a\"\u001b[0m\u001b[1;33m)\u001b[0m \u001b[1;32mas\u001b[0m \u001b[0mf1\u001b[0m\u001b[1;33m:\u001b[0m\u001b[1;33m\u001b[0m\u001b[1;33m\u001b[0m\u001b[0m\n\u001b[0;32m      4\u001b[0m         \u001b[0mf1\u001b[0m\u001b[1;33m.\u001b[0m\u001b[0mwrite\u001b[0m\u001b[1;33m(\u001b[0m\u001b[1;34m\" \"\u001b[0m\u001b[1;33m.\u001b[0m\u001b[0mjoin\u001b[0m\u001b[1;33m(\u001b[0m\u001b[0mdrug\u001b[0m\u001b[1;33m)\u001b[0m\u001b[1;33m)\u001b[0m\u001b[1;33m\u001b[0m\u001b[1;33m\u001b[0m\u001b[0m\n",
      "\u001b[1;31mTypeError\u001b[0m: a bytes-like object is required, not 'str'"
     ]
    }
   ],
   "source": [
    "for drug_name_raw in drugs_name_file:\n",
    "    drug = drug_name_raw.replace('\\n','')\n",
    "    with open(file_name_loading, \"a\") as f1:\n",
    "        f1.write(\" \".join(drug))"
   ]
  },
  {
   "cell_type": "code",
   "execution_count": null,
   "id": "3fb47803",
   "metadata": {},
   "outputs": [],
   "source": [
    "# ok\n",
    "f = open(file_name,'r')\n",
    "drugs_name_file = f.readlines()\n",
    "for drug_name_raw in drugs_name_file:\n",
    "    drug = drug_name_raw.replace(' ','+').replace('\\n','').replace('-', '+').replace('/','+').replace('.','')\n",
    "    import string\n",
    "    old_string = drug\n",
    "    new_string = \"\".join([s if s not in string.digits else \"+\" for s in old_string ])\n",
    "    new_string_1 = new_string.replace('++++++','').replace('+++++','').replace(',','')\n",
    "#     print(new_string_1)"
   ]
  },
  {
   "cell_type": "code",
   "execution_count": 14,
   "id": "a1ce6842",
   "metadata": {
    "scrolled": true
   },
   "outputs": [],
   "source": [
    "f = open(file_name,'r')\n",
    "drugs_name_file = f.readlines()\n",
    "for drug_name_raw in drugs_name_file:\n",
    "    drug = drug_name_raw.replace(' ','+').replace('\\n','').replace('-', '+').replace('/','+').replace('.','')\n",
    "    import string\n",
    "    old_string = drug\n",
    "    new_string = \"\".join([s if s not in string.digits else \"+\" for s in old_string ])\n",
    "    new_string_1 = new_string.replace('++++++','').replace('+++++','').replace(',','')\n",
    "#     print(new_string_1)\n",
    "    with open(file_name_loading, \"a\") as f1:\n",
    "        import json\n",
    "        json.dump(new_string_1, f1)"
   ]
  },
  {
   "cell_type": "code",
   "execution_count": 16,
   "id": "00917e41",
   "metadata": {},
   "outputs": [],
   "source": [
    "f = open(file_name,'r')\n",
    "drugs_name_file = f.readlines()\n",
    "for drug_name_raw in drugs_name_file:\n",
    "    drug = drug_name_raw.replace(' ','+').replace('\\n','').replace('-', '+').replace('/','+').replace('.','')\n",
    "    import string\n",
    "    old_string = drug\n",
    "    new_string = \"\".join([s if s not in string.digits else \"+\" for s in old_string ])\n",
    "    new_string_1 = new_string.replace('++++++','').replace('+++++','').replace(',','')\n",
    "#     print(new_string_1)\n",
    "    with open(file_name_loading, \"a\") as f1:\n",
    "        f1.write(\" \".join(new_string_1))"
   ]
  },
  {
   "cell_type": "code",
   "execution_count": 7,
   "id": "b84711ee",
   "metadata": {},
   "outputs": [
    {
     "name": "stdout",
     "output_type": "stream",
     "text": [
      "Phexxi\n"
     ]
    }
   ],
   "source": [
    "print(new_string_1)"
   ]
  },
  {
   "cell_type": "code",
   "execution_count": 6,
   "id": "56a9fa94",
   "metadata": {},
   "outputs": [],
   "source": [
    "with open(file_name_loading, 'a') as fh:\n",
    "    fh.write(new_string_1)"
   ]
  },
  {
   "cell_type": "code",
   "execution_count": 3,
   "id": "d531d884",
   "metadata": {},
   "outputs": [],
   "source": [
    "# create file loading\n",
    "if os.path.exists(file_name_loading):\n",
    "    os.remove(file_name_loading)\n"
   ]
  },
  {
   "cell_type": "code",
   "execution_count": null,
   "id": "a06836e9",
   "metadata": {},
   "outputs": [],
   "source": [
    "f = open(file_name_loading,'r')\n",
    "drugs_name_file = f.readlines()\n",
    "for drug_name_raw in drugs_name_file:\n",
    "    drug = drug_name_raw.replace(' ','+').replace('\\n','').replace('-', '+').replace('/','+').replace('.','')\n",
    "    import re\n",
    "    print(re.sub('\\d','',drug))\n",
    "    print(drug)"
   ]
  },
  {
   "cell_type": "code",
   "execution_count": 4,
   "id": "f6321343",
   "metadata": {},
   "outputs": [],
   "source": [
    "# remove iig exist\n",
    "f = open(file_name_loading,'r')\n",
    "drugs_name_file = f.readlines()\n",
    "for drug_name_raw in drugs_name_file:\n",
    "    drug = drug_name_raw.replace(' ','+').replace('\\n','').replace('-', '+').replace('/','+').replace('.','')\n",
    "    from pathlib import Path\n",
    "    drug_iig_name = drug + '_inactive_ingredient_list.txt'\n",
    "    path = 'iigdata/'\n",
    "    filepath = path + drug_iig_name\n",
    "    if os.path.isfile(filepath):\n",
    "        with open(file_name_loading, \"r+\") as f:\n",
    "            d = f.readlines()\n",
    "            f.seek(0)\n",
    "            for i in d:\n",
    "                if i != drug_name_raw:\n",
    "                    f.write(i)\n",
    "            f.truncate()\n",
    "    else:\n",
    "        pass"
   ]
  },
  {
   "cell_type": "code",
   "execution_count": null,
   "id": "a9a13f64",
   "metadata": {},
   "outputs": [],
   "source": [
    "# Remove drug name len < 3 (not key name)\n",
    "f = open(file_name_loading,'r')\n",
    "drugs_name_file = f.readlines()\n",
    "for drug_name_raw in drugs_name_file:\n",
    "    drug = drug_name_raw.replace(' ','+').replace('\\n','').replace('-', '+')\n",
    "    if len(drug) <3:\n",
    "        with open(file_name_loading, \"r+\") as f:\n",
    "            d = f.readlines()\n",
    "            f.seek(0)\n",
    "            for i in d:\n",
    "                if i != drug_name_raw:\n",
    "                    f.write(i)\n",
    "            f.truncate()\n",
    "    else:\n",
    "        pass\n",
    " \n",
    "# run ok\n",
    "# remove drug name if number\n",
    "f = open(file_name_loading,'r')\n",
    "drugs_name_file = f.readlines()\n",
    "for drug_name_raw in drugs_name_file:\n",
    "    drug = drug_name_raw.replace(' ','+').replace('\\n','').replace('-', '+')\n",
    "    if drug.isdigit():\n",
    "        with open(file_name_loading, \"r+\") as f:\n",
    "            d = f.readlines()\n",
    "            f.seek(0)\n",
    "            for i in d:\n",
    "                if i != drug_name_raw:\n",
    "                    f.write(i)\n",
    "            f.truncate()\n",
    "    else:\n",
    "        pass\n",
    "        \n",
    "        \n",
    "# run ok\n",
    "# get iig and remove line\n",
    "\n",
    "f = open(file_name_loading,'r')\n",
    "drugs_name_file = f.readlines()\n",
    "for drug_name_raw in drugs_name_file:\n",
    "    drug = drug_name_raw.replace(' ','+').replace('\\n','').replace('-', '+')\n",
    "    # get inactive ingredient\n",
    "    import src.pharmappiig013 as pa\n",
    "    try:\n",
    "        print(f'{drug} loading!')\n",
    "        pa.get_inactive_ingredient(name_drug=drug)\n",
    "        print(f'{drug} done!')\n",
    "        print(\"+---------------------------+---------------------------+\")\n",
    "    except:\n",
    "        print(f'{drug} no found in DailyMed or run error!')\n",
    "        print(\"+---------------------------+---------------------------+\")\n",
    "    with open(file_name_loading, \"r+\") as f:\n",
    "        d = f.readlines()\n",
    "        f.seek(0)\n",
    "        for i in d:\n",
    "            if i != drug_name_raw:\n",
    "                f.write(i)\n",
    "        f.truncate()"
   ]
  }
 ],
 "metadata": {
  "kernelspec": {
   "display_name": "Python 3 (ipykernel)",
   "language": "python",
   "name": "python3"
  },
  "language_info": {
   "codemirror_mode": {
    "name": "ipython",
    "version": 3
   },
   "file_extension": ".py",
   "mimetype": "text/x-python",
   "name": "python",
   "nbconvert_exporter": "python",
   "pygments_lexer": "ipython3",
   "version": "3.9.6"
  }
 },
 "nbformat": 4,
 "nbformat_minor": 5
}
