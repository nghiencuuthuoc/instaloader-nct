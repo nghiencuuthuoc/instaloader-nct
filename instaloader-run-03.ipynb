{
 "cells": [
  {
   "cell_type": "markdown",
   "metadata": {},
   "source": [
    "# Download picture Instagram and Zip"
   ]
  },
  {
   "cell_type": "markdown",
   "metadata": {},
   "source": [
    "# Run with input"
   ]
  },
  {
   "cell_type": "code",
   "execution_count": null,
   "metadata": {},
   "outputs": [],
   "source": [
    "# view instagram username\n",
    "import webbrowser\n",
    "instagram_username = str(input(\"Enter instagram username: \"))\n",
    "url = \"https://www.instagram.com/\" + instagram_username\n",
    "print(url)\n",
    "webbrowser.open_new_tab(url)"
   ]
  },
  {
   "cell_type": "code",
   "execution_count": null,
   "metadata": {},
   "outputs": [],
   "source": [
    "from instaloader import Instaloader, Profile \n",
    "L = Instaloader()\n",
    "instagram_username = input(\"Enter instagram username: \")\n",
    "number_post = int((input(\"Enter number post: \")))\n",
    "# number_post = 1000\n",
    "PROFILE = instagram_username\n",
    "profile = Profile.from_username(L.context, PROFILE)\n",
    "posts_sorted_by_likes = sorted(profile.get_posts(), key=lambda post: post.likes,reverse=True)\n",
    "selected_range = posts_sorted_by_likes[0:number_post] #to download from only 20 posts\n",
    "for post in selected_range:\n",
    "    L.download_post(post, PROFILE)\n",
    "\n",
    "# delete xz and txt file\n",
    "import os\n",
    "dir_name = os.listdir(instagram_username)\n",
    "for item in dir_name:\n",
    "    if item.endswith(\".xz\"):\n",
    "        os.remove(os.path.join(instagram_username, item))\n",
    "for item in dir_name:\n",
    "    if item.endswith(\".txt\"):\n",
    "        os.remove(os.path.join(instagram_username, item))\n",
    "\n",
    "# zip folder instagram_username\n",
    "import shutil\n",
    "shutil.make_archive(instagram_username, 'zip', instagram_username)"
   ]
  },
  {
   "cell_type": "code",
   "execution_count": null,
   "metadata": {},
   "outputs": [],
   "source": [
    "# remove folder instagram_username\n",
    "import os\n",
    "os.remove('pguyn175')"
   ]
  },
  {
   "cell_type": "markdown",
   "metadata": {},
   "source": [
    "# Run not input"
   ]
  },
  {
   "cell_type": "code",
   "execution_count": 3,
   "metadata": {},
   "outputs": [],
   "source": [
    "from instaloader import Instaloader, Profile \n",
    "L = Instaloader()"
   ]
  },
  {
   "cell_type": "code",
   "execution_count": 4,
   "metadata": {},
   "outputs": [],
   "source": [
    "PROFILE = \"slowswan\" #instagram username for profile you want to download data"
   ]
  },
  {
   "cell_type": "code",
   "execution_count": 5,
   "metadata": {},
   "outputs": [],
   "source": [
    "profile = Profile.from_username(L.context, PROFILE)\n",
    "posts_sorted_by_likes = sorted(profile.get_posts(), key=lambda post: post.likes,reverse=True)"
   ]
  },
  {
   "cell_type": "code",
   "execution_count": null,
   "metadata": {},
   "outputs": [],
   "source": [
    "selected_range = posts_sorted_by_likes[101:1000] #to download from only 20 posts\n",
    "for post in selected_range:\n",
    "    L.download_post(post, PROFILE)"
   ]
  },
  {
   "cell_type": "code",
   "execution_count": null,
   "metadata": {},
   "outputs": [],
   "source": []
  },
  {
   "cell_type": "code",
   "execution_count": null,
   "metadata": {},
   "outputs": [],
   "source": []
  },
  {
   "cell_type": "code",
   "execution_count": null,
   "metadata": {},
   "outputs": [],
   "source": []
  }
 ],
 "metadata": {
  "kernelspec": {
   "display_name": "Python 3 (ipykernel)",
   "language": "python",
   "name": "python3"
  },
  "language_info": {
   "codemirror_mode": {
    "name": "ipython",
    "version": 3
   },
   "file_extension": ".py",
   "mimetype": "text/x-python",
   "name": "python",
   "nbconvert_exporter": "python",
   "pygments_lexer": "ipython3",
   "version": "3.9.6"
  }
 },
 "nbformat": 4,
 "nbformat_minor": 2
}
